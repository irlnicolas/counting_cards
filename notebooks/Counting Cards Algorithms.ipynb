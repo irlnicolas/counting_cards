{
 "cells": [
  {
   "cell_type": "markdown",
   "id": "dbd15145",
   "metadata": {},
   "source": [
    "## Counting Cards - Easy Logic "
   ]
  },
  {
   "cell_type": "code",
   "execution_count": 7,
   "id": "38a8c74c",
   "metadata": {},
   "outputs": [],
   "source": [
    "def count(hand):\n",
    "    \"\"\"Evaluates the \"score\" of a given hand. \"\"\"\n",
    "    count = 0\n",
    "    for i in hand:\n",
    "        if i in values:\n",
    "            count += values[i]\n",
    "        else:\n",
    "            pass\n",
    "    for x in hand:\n",
    "        if x == 'A':\n",
    "        ## makes exception for aces\n",
    "            if count + 11 > 21:\n",
    "                count += 1\n",
    "            elif hand.count('A') == 1:\n",
    "                count += 11\n",
    "            else:\n",
    "                count += 1\n",
    "        else:\n",
    "            pass\n",
    "    return count"
   ]
  },
  {
   "cell_type": "markdown",
   "id": "7d73f7f7",
   "metadata": {},
   "source": [
    "## Counting Cards (Kaggle Blackjack Challenge) "
   ]
  },
  {
   "cell_type": "code",
   "execution_count": 1,
   "id": "415ca21e",
   "metadata": {},
   "outputs": [],
   "source": [
    "#Mathematics\n",
    "\n",
    "import numpy as np # linear algebra\n",
    "import pandas as pd # data processing, CSV file I/O (e.g. pd.read_csv)\n",
    "import random\n",
    "\n",
    "# Input data files are available in the \"../input/\" directory.\n",
    "import os\n",
    "for dirname, _, filenames in os.walk('/kaggle/input'):\n",
    "    for filename in filenames:\n",
    "        print(os.path.join(dirname, filename))\n",
    "\n",
    "# Any results you write to the current directory are saved as output."
   ]
  },
  {
   "cell_type": "markdown",
   "id": "32f454ff",
   "metadata": {},
   "source": [
    "## Creating the Deck"
   ]
  },
  {
   "cell_type": "code",
   "execution_count": 2,
   "id": "e7a5843a",
   "metadata": {},
   "outputs": [
    {
     "name": "stdout",
     "output_type": "stream",
     "text": [
      "['2', '3', '4', '5', '6', '7', '8', '9', '10', 'J', 'Q', 'K', 'A', '2', '3', '4', '5', '6', '7', '8', '9', '10', 'J', 'Q', 'K', 'A', '2', '3', '4', '5', '6', '7', '8', '9', '10', 'J', 'Q', 'K', 'A', '2', '3', '4', '5', '6', '7', '8', '9', '10', 'J', 'Q', 'K', 'A']\n"
     ]
    }
   ],
   "source": [
    "deck = 4 * ([str(i) for i in range(2, 11)] + ['J', 'Q', 'K', 'A'])\n",
    "\n",
    "print(deck)"
   ]
  },
  {
   "cell_type": "markdown",
   "id": "758468dd",
   "metadata": {},
   "source": [
    "## Keep Count"
   ]
  },
  {
   "cell_type": "code",
   "execution_count": 3,
   "id": "d2cc72bc",
   "metadata": {},
   "outputs": [],
   "source": [
    "global_cards_count = 0\n",
    "debug = 0"
   ]
  },
  {
   "cell_type": "code",
   "execution_count": 14,
   "id": "ff9e7e83",
   "metadata": {},
   "outputs": [],
   "source": [
    "def shuffle_cards(shoe_size=8):\n",
    "    \"\"\"\n",
    "    The dealer uses several decks (usually 6 to 8).\n",
    "    We can change this later to check how this affects the odds.\n",
    "    \"\"\"\n",
    "    global global_cards_count\n",
    "    \n",
    "    new_shoe = shoe_size * deck\n",
    "    random.shuffle(new_shoe)\n",
    "    \n",
    "    # NEW - Whenever the shoe is shuffled, global count is reset\n",
    "    global_cards_count = 0\n",
    "    \n",
    "    return new_shoe\n",
    "\n",
    "\n",
    "def hand_value(hand):\n",
    "    value = 0    \n",
    "    num_aces = sum([i == 'A' for i in hand])\n",
    "    \n",
    "    for card in hand:\n",
    "        if card.isnumeric():\n",
    "            value += int(card)\n",
    "        elif card in ['J', 'Q', 'K']:\n",
    "            value += 10\n",
    "        else: # Aces are treated as 1 at first\n",
    "            value += 1\n",
    "    \n",
    "    if num_aces and (value <= 11):\n",
    "        value += 10 # Ace value = 11\n",
    "        \n",
    "    return value"
   ]
  },
  {
   "cell_type": "markdown",
   "id": "b25b2eaf",
   "metadata": {},
   "source": [
    "## Assigning Values for Cards"
   ]
  },
  {
   "cell_type": "code",
   "execution_count": 5,
   "id": "145ac85e",
   "metadata": {},
   "outputs": [],
   "source": [
    "def card_count_value(card): # return a single card's value for counting\n",
    "    if card in ['2', '3', '4', '5', '6']:\n",
    "        return 1\n",
    "    elif card in ['7', '8', '9']:\n",
    "        return 0\n",
    "    else:\n",
    "        return -1\n",
    "    \n",
    "def hand_count_value(hand): # return a hand's value for counting\n",
    "    value = 0\n",
    "    \n",
    "    for card in hand:\n",
    "        value += card_count_value(card)\n",
    "        \n",
    "    #print(hand, value)\n",
    "        \n",
    "    return value"
   ]
  },
  {
   "cell_type": "code",
   "execution_count": 12,
   "id": "34099673",
   "metadata": {},
   "outputs": [],
   "source": [
    "def dealer_action(player_hand, dealer_hand):\n",
    "    if hand_value(dealer_hand) < 17:\n",
    "        action = 'HIT'\n",
    "    else:\n",
    "        action = 'STAND'\n",
    "        \n",
    "    print('Dealer ', action)\n",
    "    return action"
   ]
  },
  {
   "cell_type": "markdown",
   "id": "60ee5ecc",
   "metadata": {},
   "source": [
    "## Strategy Tables"
   ]
  },
  {
   "cell_type": "code",
   "execution_count": 9,
   "id": "b4366840",
   "metadata": {},
   "outputs": [],
   "source": [
    "table_soft_totals = [ # use when player hand has at least one ace\n",
    "    # 0   1   2   3   4   5   6   7   8   9   10  A\n",
    "    [' ',' ',' ',' ',' ',' ',' ',' ',' ',' ',' ',' '], #0\n",
    "    [' ',' ',' ',' ',' ',' ',' ',' ',' ',' ',' ',' '], #1\n",
    "    [' ',' ',' ',' ',' ',' ',' ',' ',' ',' ',' ',' '], #2\n",
    "    [' ',' ',' ',' ',' ',' ',' ',' ',' ',' ',' ',' '], #3\n",
    "    [' ',' ',' ',' ',' ',' ',' ',' ',' ',' ',' ',' '], #4\n",
    "    [' ',' ',' ',' ',' ',' ',' ',' ',' ',' ',' ',' '], #5\n",
    "    [' ',' ',' ',' ',' ',' ',' ',' ',' ',' ',' ',' '], #6\n",
    "    [' ',' ',' ',' ',' ',' ',' ',' ',' ',' ',' ',' '], #7\n",
    "    [' ',' ',' ',' ',' ',' ',' ',' ',' ',' ',' ',' '], #8\n",
    "    [' ',' ',' ',' ',' ',' ',' ',' ',' ',' ',' ',' '], #9\n",
    "    [' ',' ',' ',' ',' ',' ',' ',' ',' ',' ',' ',' '], #10\n",
    "    [' ',' ',' ',' ',' ',' ',' ',' ',' ',' ',' ',' '], #11\n",
    "    [' ',' ','H','H','H','H','H','H','H','H','H','H'], #12\n",
    "    [' ',' ','H','H','H','D','D','H','H','H','H','H'], #13\n",
    "    [' ',' ','H','H','H','D','D','H','H','H','H','H'], #14\n",
    "    [' ',' ','H','H','D','D','D','H','H','H','H','H'], #15\n",
    "    [' ',' ','H','H','D','D','D','H','H','H','H','H'], #16\n",
    "    [' ',' ','H','D','D','D','D','H','H','H','H','H'], #17\n",
    "    [' ',' ','D','D','D','D','D','S','S','H','H','H'], #18\n",
    "    [' ',' ','S','S','S','S','D','S','S','S','S','S'], #19\n",
    "    [' ',' ','S','S','S','S','S','S','S','S','S','S'], #20\n",
    "    [' ',' ','S','S','S','S','S','S','S','S','S','S'], #21\n",
    "]    \n",
    "\n",
    "table_hard_totals = [ # use when there are no aces\n",
    "    # 0   1   2   3   4   5   6   7   8   9   10  A\n",
    "    [' ',' ',' ',' ',' ',' ',' ',' ',' ',' ',' ',' '], #0\n",
    "    [' ',' ',' ',' ',' ',' ',' ',' ',' ',' ',' ',' '], #1\n",
    "    [' ',' ',' ',' ',' ',' ',' ',' ',' ',' ',' ',' '], #2\n",
    "    [' ',' ',' ',' ',' ',' ',' ',' ',' ',' ',' ',' '], #3\n",
    "    [' ',' ','H','H','H','H','H','H','H','H','H','H'], #4\n",
    "    [' ',' ','H','H','H','H','H','H','H','H','H','H'], #5\n",
    "    [' ',' ','H','H','H','H','H','H','H','H','H','H'], #6\n",
    "    [' ',' ','H','H','H','H','H','H','H','H','H','H'], #7\n",
    "    [' ',' ','H','H','H','H','H','H','H','H','H','H'], #8\n",
    "    [' ',' ','H','D','D','D','D','H','H','H','H','H'], #9\n",
    "    [' ',' ','D','D','D','D','D','D','D','D','H','H'], #10\n",
    "    [' ',' ','D','D','D','D','D','D','D','D','D','D'], #11\n",
    "    [' ',' ','H','H','S','S','S','H','H','H','H','H'], #12\n",
    "    [' ',' ','S','S','S','S','S','H','H','H','H','H'], #13\n",
    "    [' ',' ','S','S','S','S','S','H','H','H','H','H'], #14\n",
    "    [' ',' ','S','S','S','S','S','H','H','H','H','H'], #15\n",
    "    [' ',' ','S','S','S','S','S','H','H','H','H','H'], #16\n",
    "    [' ',' ','S','S','S','S','S','S','S','S','S','S'], #17\n",
    "    [' ',' ','S','S','S','S','S','S','S','S','S','S'], #18\n",
    "    [' ',' ','S','S','S','S','S','S','S','S','S','S'], #19\n",
    "    [' ',' ','S','S','S','S','S','S','S','S','S','S'], #20\n",
    "    [' ',' ','S','S','S','S','S','S','S','S','S','S'], #21\n",
    "]    \n",
    "\n",
    "table_splits = [ # used to decide if will split or not\n",
    "    # 0   1   2   3   4   5   6   7   8   9   10  A\n",
    "    [' ',' ',' ',' ',' ',' ',' ',' ',' ',' ',' ',' '], #0\n",
    "    [' ',' ',' ',' ',' ',' ',' ',' ',' ',' ',' ',' '], #1\n",
    "    [' ',' ','Y','Y','Y','Y','Y','Y','N','N','N','N'], #2\n",
    "    [' ',' ','Y','Y','Y','Y','Y','Y','N','N','N','N'], #3\n",
    "    [' ',' ','N','N','N','Y','Y','N','N','N','N','N'], #4\n",
    "    [' ',' ','N','N','N','N','N','N','N','N','N','N'], #5\n",
    "    [' ',' ','Y','Y','Y','Y','Y','N','N','N','N','N'], #6\n",
    "    [' ',' ','Y','Y','Y','Y','Y','Y','N','N','N','N'], #7\n",
    "    [' ',' ','Y','Y','Y','Y','Y','Y','Y','Y','Y','Y'], #8\n",
    "    [' ',' ','Y','Y','Y','Y','Y','N','Y','Y','N','N'], #9\n",
    "    [' ',' ','N','N','N','N','N','N','N','N','N','N'], #10\n",
    "    [' ',' ','Y','Y','Y','Y','Y','Y','Y','Y','Y','Y'], #11 (A)\n",
    "]"
   ]
  },
  {
   "cell_type": "code",
   "execution_count": 10,
   "id": "b6e4bfe3",
   "metadata": {},
   "outputs": [],
   "source": [
    "action = {'H':'HIT', 'S':'STAND', 'D':'DOUBLE'}"
   ]
  },
  {
   "cell_type": "markdown",
   "id": "a3e56ffc",
   "metadata": {},
   "source": [
    "## Actions"
   ]
  },
  {
   "cell_type": "code",
   "execution_count": 11,
   "id": "e52d0d24",
   "metadata": {},
   "outputs": [],
   "source": [
    "def player_action_stand_default(player_hand, dealer_hand):\n",
    "    \n",
    "    action = 'STAND'\n",
    "    #print('player ', action)\n",
    "    \n",
    "    return action"
   ]
  },
  {
   "cell_type": "markdown",
   "id": "9fb6e074",
   "metadata": {},
   "source": [
    "## Final Function "
   ]
  },
  {
   "cell_type": "code",
   "execution_count": 15,
   "id": "080f2e52",
   "metadata": {},
   "outputs": [],
   "source": [
    "def can_split(hand):\n",
    "    return (len(hand) == 2) and (hand_value([hand[0]]) == hand_value([hand[1]]))\n",
    "\n",
    "def player_action_full(player_hand, dealer_hand):\n",
    "    \n",
    "    player_aces = sum([i == 'A' for i in player_hand])\n",
    "\n",
    "    player_total = hand_value(player_hand)\n",
    "    dealer_total = hand_value(dealer_hand)\n",
    "\n",
    "    if can_split(player_hand):\n",
    "        card = hand_value([player_hand[0]])\n",
    "        if table_splits[card][dealer_total] == 'Y':\n",
    "            return 'SPLIT'\n",
    "    \n",
    "    if player_aces == 1:\n",
    "        result = action[table_soft_totals[player_total][dealer_total]]\n",
    "    else:\n",
    "        result = action[table_hard_totals[player_total][dealer_total]]\n",
    "    return result"
   ]
  }
 ],
 "metadata": {
  "kernelspec": {
   "display_name": "Python 3 (ipykernel)",
   "language": "python",
   "name": "python3"
  },
  "language_info": {
   "codemirror_mode": {
    "name": "ipython",
    "version": 3
   },
   "file_extension": ".py",
   "mimetype": "text/x-python",
   "name": "python",
   "nbconvert_exporter": "python",
   "pygments_lexer": "ipython3",
   "version": "3.8.12"
  },
  "toc": {
   "base_numbering": 1,
   "nav_menu": {},
   "number_sections": true,
   "sideBar": true,
   "skip_h1_title": false,
   "title_cell": "Table of Contents",
   "title_sidebar": "Contents",
   "toc_cell": false,
   "toc_position": {},
   "toc_section_display": true,
   "toc_window_display": false
  }
 },
 "nbformat": 4,
 "nbformat_minor": 5
}
