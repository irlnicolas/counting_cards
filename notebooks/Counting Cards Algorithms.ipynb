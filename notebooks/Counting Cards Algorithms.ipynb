{
 "cells": [
  {
   "cell_type": "markdown",
   "id": "dbd15145",
   "metadata": {},
   "source": [
    "## Counting Cards - Easy Logic "
   ]
  },
  {
   "cell_type": "code",
   "execution_count": 4,
   "id": "a6461680",
   "metadata": {},
   "outputs": [],
   "source": [
    "import random "
   ]
  },
  {
   "cell_type": "code",
   "execution_count": 7,
   "id": "38a8c74c",
   "metadata": {},
   "outputs": [],
   "source": [
    "def count(hand):\n",
    "    \"\"\"Evaluates the \"score\" of a given hand. \"\"\"\n",
    "    count = 0\n",
    "    for i in hand:\n",
    "        if i in values:\n",
    "            count += values[i]\n",
    "        else:\n",
    "            pass\n",
    "    for x in hand:\n",
    "        if x == 'A':\n",
    "        ## makes exception for aces\n",
    "            if count + 11 > 21:\n",
    "                count += 1\n",
    "            elif hand.count('A') == 1:\n",
    "                count += 11\n",
    "            else:\n",
    "                count += 1\n",
    "        else:\n",
    "            pass\n",
    "    return count"
   ]
  },
  {
   "cell_type": "code",
   "execution_count": 2,
   "id": "99185fe3",
   "metadata": {},
   "outputs": [],
   "source": [
    "import cv2\n",
    "import sys\n",
    "import numpy as np"
   ]
  },
  {
   "cell_type": "code",
   "execution_count": 3,
   "id": "981b88fd",
   "metadata": {},
   "outputs": [],
   "source": [
    "#creating a cascade \n",
    "cascPath = sys.argv[1]\n",
    "#faceCascade = cv2.CascadeClassifier(cascPath)\n",
    "face_cascade = cv2.CascadeClassifier(cv2.data.haarcascades + 'haarcascade_frontalface_default.xml')"
   ]
  },
  {
   "cell_type": "code",
   "execution_count": 4,
   "id": "dfbe713f",
   "metadata": {},
   "outputs": [],
   "source": [
    "video_capture = cv2.VideoCapture(0)\n",
    "\n",
    "while True:\n",
    "    # Capture frame-by-frame\n",
    "    ret, frame = video_capture.read()\n",
    "\n",
    "    gray = cv2.cvtColor(frame, cv2.COLOR_BGR2GRAY)\n",
    "\n",
    "    faces = face_cascade.detectMultiScale(\n",
    "        gray, \n",
    "        scaleFactor = 1.1, \n",
    "        minNeighbors = 5, \n",
    "        flags = 0, \n",
    "        minSize = (30, 30)\n",
    "    )\n",
    "        \n",
    "\n",
    "    # Draw a rectangle around the faces\n",
    "    for (x, y, w, h) in faces:\n",
    "        cv2.rectangle(frame, (x, y), (x+w, y+h), (0, 255, 0), 2)\n",
    "\n",
    "    # Display the resulting frame\n",
    "    cv2.imshow('Video', frame)\n",
    "    \n",
    "    if cv2.waitKey(1) & 0xFF == ord('q'):\n",
    "        break\n"
   ]
  },
  {
   "cell_type": "code",
   "execution_count": 32,
   "id": "08e3a26d",
   "metadata": {},
   "outputs": [],
   "source": [
    "video_capture.release()\n",
    "cv2.destroyAllWindows()"
   ]
  },
  {
   "cell_type": "code",
   "execution_count": null,
   "id": "64750e21",
   "metadata": {},
   "outputs": [],
   "source": []
  },
  {
   "cell_type": "code",
   "execution_count": null,
   "id": "1cd3f2ce",
   "metadata": {},
   "outputs": [],
   "source": []
  }
 ],
 "metadata": {
  "kernelspec": {
   "display_name": "Python 3 (ipykernel)",
   "language": "python",
   "name": "python3"
  },
  "language_info": {
   "codemirror_mode": {
    "name": "ipython",
    "version": 3
   },
   "file_extension": ".py",
   "mimetype": "text/x-python",
   "name": "python",
   "nbconvert_exporter": "python",
   "pygments_lexer": "ipython3",
   "version": "3.8.12"
  },
  "toc": {
   "base_numbering": 1,
   "nav_menu": {},
   "number_sections": true,
   "sideBar": true,
   "skip_h1_title": false,
   "title_cell": "Table of Contents",
   "title_sidebar": "Contents",
   "toc_cell": false,
   "toc_position": {},
   "toc_section_display": true,
   "toc_window_display": false
  }
 },
 "nbformat": 4,
 "nbformat_minor": 5
}
